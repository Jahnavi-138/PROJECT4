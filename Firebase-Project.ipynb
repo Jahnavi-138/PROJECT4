{
 "cells": [
  {
   "cell_type": "markdown",
   "metadata": {},
   "source": [
    "# project4-FireBase"
   ]
  },
  {
   "cell_type": "code",
   "execution_count": 1,
   "metadata": {},
   "outputs": [
    {
     "name": "stdout",
     "output_type": "stream",
     "text": [
      "Requirement already satisfied: firebase in c:\\users\\dell\\anaconda3\\lib\\site-packages (3.0.1)\n",
      "Requirement already satisfied: requests in c:\\users\\dell\\anaconda3\\lib\\site-packages (from firebase) (2.24.0)\n",
      "Requirement already satisfied: chardet<4,>=3.0.2 in c:\\users\\dell\\anaconda3\\lib\\site-packages (from requests->firebase) (3.0.4)\n",
      "Requirement already satisfied: certifi>=2017.4.17 in c:\\users\\dell\\anaconda3\\lib\\site-packages (from requests->firebase) (2020.6.20)\n",
      "Requirement already satisfied: urllib3!=1.25.0,!=1.25.1,<1.26,>=1.21.1 in c:\\users\\dell\\anaconda3\\lib\\site-packages (from requests->firebase) (1.25.11)\n",
      "Requirement already satisfied: idna<3,>=2.5 in c:\\users\\dell\\anaconda3\\lib\\site-packages (from requests->firebase) (2.10)\n"
     ]
    }
   ],
   "source": [
    "!pip install firebase"
   ]
  },
  {
   "cell_type": "code",
   "execution_count": 2,
   "metadata": {},
   "outputs": [],
   "source": [
    "import firebase_admin\n",
    "from firebase_admin import credentials\n",
    "from firebase_admin import firestore"
   ]
  },
  {
   "cell_type": "code",
   "execution_count": 3,
   "metadata": {},
   "outputs": [
    {
     "data": {
      "text/plain": [
       "<firebase_admin.App at 0x1aa6916dbb0>"
      ]
     },
     "execution_count": 3,
     "metadata": {},
     "output_type": "execute_result"
    }
   ],
   "source": [
    "cred = credentials.Certificate(\"project-firebase-ab91e-firebase-adminsdk-cln85-0ab53dd3d9.json\")\n",
    "firebase_admin.initialize_app(cred)"
   ]
  },
  {
   "cell_type": "code",
   "execution_count": 4,
   "metadata": {},
   "outputs": [],
   "source": [
    "db=firestore.client()"
   ]
  },
  {
   "cell_type": "code",
   "execution_count": 7,
   "metadata": {},
   "outputs": [
    {
     "data": {
      "text/plain": [
       "update_time {\n",
       "  seconds: 1608380588\n",
       "  nanos: 55780000\n",
       "}"
      ]
     },
     "execution_count": 7,
     "metadata": {},
     "output_type": "execute_result"
    }
   ],
   "source": [
    "doc_ref = db.collection(u'users').document(u'xyz')\n",
    "\n",
    "doc_ref.set({\n",
    "    u'first': u'kaira',\n",
    "    u'last': u'jay',\n",
    "    u'born': 2008\n",
    "})\n"
   ]
  },
  {
   "cell_type": "code",
   "execution_count": 8,
   "metadata": {},
   "outputs": [],
   "source": [
    "def enterDataInDB():\n",
    "    doc_ref = db.collection(u'dell users').document()\n",
    "    name=input(\"Enter Name: \")\n",
    "    lastName=input(\"Enter LastName: \")\n",
    "    age=input(\"Enter age: \")\n",
    "    dit = {}\n",
    "    dit[\"firstName\"]=name\n",
    "    dit[\"lastName\"]=lastName\n",
    "    dit[\"age\"]=age\n",
    "    doc_ref.set(dit)"
   ]
  },
  {
   "cell_type": "code",
   "execution_count": 9,
   "metadata": {},
   "outputs": [
    {
     "name": "stdout",
     "output_type": "stream",
     "text": [
      "Enter Name: jaan\n",
      "Enter LastName: sam\n",
      "Enter age: 20\n"
     ]
    }
   ],
   "source": [
    "enterDataInDB()"
   ]
  },
  {
   "cell_type": "code",
   "execution_count": 11,
   "metadata": {},
   "outputs": [
    {
     "name": "stdout",
     "output_type": "stream",
     "text": [
      "Enter Name: candy\n",
      "Enter LastName: jessi\n",
      "Enter age: 20\n"
     ]
    }
   ],
   "source": [
    "enterDataInDB()"
   ]
  },
  {
   "cell_type": "code",
   "execution_count": 14,
   "metadata": {},
   "outputs": [
    {
     "name": "stdout",
     "output_type": "stream",
     "text": [
      "ID:  2YgO9kCeUA5vO5yvjwme\n",
      "First Name:  jaan\n",
      "Last Name:  sam\n",
      "Age:  20\n",
      "-------------\n",
      "-------------\n",
      "ID:  4ITUrRnK6UFEZJufmw9L\n",
      "First Name:  candy\n",
      "Last Name:  jessi\n",
      "Age:  20\n",
      "-------------\n",
      "-------------\n"
     ]
    }
   ],
   "source": [
    "docs = db.collection(u'dell users').stream()\n",
    "\n",
    "for doc in docs:\n",
    "   \n",
    "    print(\"ID: \",doc.id)\n",
    "    print(\"First Name: \", doc.to_dict().get(\"firstName\"))\n",
    "    print(\"Last Name: \",doc.to_dict().get(\"lastName\"))\n",
    "    print(\"Age: \",doc.to_dict().get(\"age\"))\n",
    "    \n",
    "    print(\"-------------\")\n",
    "    print(\"-------------\")\n"
   ]
  },
  {
   "cell_type": "code",
   "execution_count": 29,
   "metadata": {},
   "outputs": [],
   "source": [
    "def updateDatainFirebase(uid,updatedAge):\n",
    "    doc_ref = db.collection(u'dell users').document(uid)\n",
    "    \n",
    "    doc_ref.update({\"age\":updatedAge})\n",
    "    "
   ]
  },
  {
   "cell_type": "code",
   "execution_count": 30,
   "metadata": {},
   "outputs": [],
   "source": [
    "updateDatainFirebase(\"4ITUrRnK6UFEZJufmw9L\",21)"
   ]
  },
  {
   "cell_type": "code",
   "execution_count": 33,
   "metadata": {},
   "outputs": [],
   "source": [
    "def deleteDatainFirebase(uid):\n",
    "    db.collection(u'dell users').document(uid).delete()"
   ]
  },
  {
   "cell_type": "code",
   "execution_count": 34,
   "metadata": {},
   "outputs": [],
   "source": [
    "deleteDatainFirebase(\"2YgO9kCeUA5vO5yvjwme\")"
   ]
  },
  {
   "cell_type": "code",
   "execution_count": null,
   "metadata": {},
   "outputs": [],
   "source": []
  }
 ],
 "metadata": {
  "kernelspec": {
   "display_name": "Python 3",
   "language": "python",
   "name": "python3"
  },
  "language_info": {
   "codemirror_mode": {
    "name": "ipython",
    "version": 3
   },
   "file_extension": ".py",
   "mimetype": "text/x-python",
   "name": "python",
   "nbconvert_exporter": "python",
   "pygments_lexer": "ipython3",
   "version": "3.8.5"
  }
 },
 "nbformat": 4,
 "nbformat_minor": 4
}
